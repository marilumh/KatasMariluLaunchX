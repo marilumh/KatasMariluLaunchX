{
 "cells": [
  {
   "cell_type": "code",
   "execution_count": 6,
   "metadata": {},
   "outputs": [
    {
     "name": "stdout",
     "output_type": "stream",
     "text": [
      "628949330\n",
      "390577533.93\n"
     ]
    }
   ],
   "source": [
    "tierra=int(149597870)\n",
    "jupiter=int(778547200)\n",
    "\n",
    "distancia=abs(tierra-jupiter)\n",
    "\n",
    "distanciaMillas=distancia*0.621\n",
    "\n",
    "\n",
    "print(distancia)\n",
    "print(distanciaMillas)"
   ]
  },
  {
   "cell_type": "code",
   "execution_count": 2,
   "metadata": {},
   "outputs": [
    {
     "name": "stdout",
     "output_type": "stream",
     "text": [
      "50300000\n",
      "31236300.0\n"
     ]
    }
   ],
   "source": [
    "planeta1=input(\"Introduzca la distancia del sol para el primer planeta en KM\")\n",
    "planeta2=input(\"Introduzca la distancia desde el sol para el segundo planeta en KM\")\n",
    "\n",
    "planeta1=int(planeta1)\n",
    "planeta2=int(planeta2)\n",
    "\n",
    "DKM=planeta2-planeta1\n",
    "print(DKM)\n",
    "\n",
    "DM=DKM*0.621\n",
    "print (abs(DM))"
   ]
  }
 ],
 "metadata": {
  "interpreter": {
   "hash": "4377b27f8e4686739d02d62161872a63796ae6f0ed9f0699fce35597ef48d50c"
  },
  "kernelspec": {
   "display_name": "Python 3.10.2 64-bit",
   "language": "python",
   "name": "python3"
  },
  "language_info": {
   "codemirror_mode": {
    "name": "ipython",
    "version": 3
   },
   "file_extension": ".py",
   "mimetype": "text/x-python",
   "name": "python",
   "nbconvert_exporter": "python",
   "pygments_lexer": "ipython3",
   "version": "3.10.2"
  },
  "orig_nbformat": 4
 },
 "nbformat": 4,
 "nbformat_minor": 2
}
