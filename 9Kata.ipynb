{
 "cells": [
  {
   "cell_type": "code",
   "execution_count": 1,
   "metadata": {},
   "outputs": [
    {
     "name": "stdout",
     "output_type": "stream",
     "text": [
      "Informe de combustible:\n",
      "    promedio tota: 78.33333333333333%\n",
      "    Tanque principal 80%\n",
      "    Tanque externo: 70%\n",
      "    Tanque de hidrógeno: 85% \n",
      "    \n",
      "Fuel Report:\n",
      "    Promedio total: 78.0%\n",
      "    Tanque principal 88%\n",
      "    Tanque externo: 76%\n",
      "    Tanque de hidrógeno: 70% \n",
      "    \n"
     ]
    }
   ],
   "source": [
    "def generar_reporte(tanque_principal, tanque_externo,tanque_hidrogeno ):\n",
    "    promedio_total = (tanque_principal + tanque_externo + tanque_hidrogeno) / 3\n",
    "    return f\"\"\"Informe de combustible:\n",
    "    promedio tota: {promedio_total}%\n",
    "    Tanque principal {tanque_principal}%\n",
    "    Tanque externo: {tanque_externo}%\n",
    "    Tanque de hidrógeno: {tanque_hidrogeno}% \n",
    "    \"\"\"\n",
    "print(generar_reporte(80, 70, 85))\n",
    "\n",
    "def average(valores):\n",
    "    total = sum(valores)\n",
    "    numero_items = len(valores)\n",
    "    return total / numero_items\n",
    "\n",
    "average([80, 85, 81]) \n",
    "\n",
    "def generar_reporte(tanque_principal, tanque_externo, tanque_hidrogeno):\n",
    "    return f\"\"\"Informe de combustible:\n",
    "    Promedio total: {average([tanque_principal, tanque_externo, tanque_hidrogeno])}%\n",
    "    Tanque principal {tanque_principal}%\n",
    "    Tanque externo: {tanque_externo}%\n",
    "    Tanque de hidrógeno: {tanque_hidrogeno}% \n",
    "    \"\"\"\n",
    "print(generar_reporte(88, 76, 70))"
   ]
  },
  {
   "cell_type": "code",
   "execution_count": 4,
   "metadata": {},
   "outputs": [
    {
     "name": "stdout",
     "output_type": "stream",
     "text": [
      "\n",
      "    Misión a Luna\n",
      "    Total de viaje: 65 minutos\n",
      "    Total combustible: 500000 galones\n",
      "    \n",
      "\n",
      "    Misión a Luna\n",
      "    Total de viaje: 76 minutes\n",
      "    Total combustible: 500000\n",
      "    \n",
      "\n",
      "    Misión a Luna\n",
      "    Total de viaje: 74 minutos\n",
      "    Total combustible: 500000\n",
      "    principal tanque --> 300000 galones restantes\n",
      "externo tanque --> 200000 galones restantes\n",
      "\n"
     ]
    }
   ],
   "source": [
    "def informe_mision(tiempo_previo, lanzamiento, destino, tanque_externo, tanque_principal):\n",
    "    return f\"\"\"\n",
    "    Misión a {destino}\n",
    "    Total de viaje: {tiempo_previo + lanzamiento} minutos\n",
    "    Total combustible: {tanque_externo + tanque_principal} galones\n",
    "    \"\"\"\n",
    "\n",
    "print(informe_mision(14, 51, \"Luna\", 200000, 300000))\n",
    "\n",
    "def informe_mision(destino, *minutos, **deposito_combustible):\n",
    "    return f\"\"\"\n",
    "    Misión a {destino}\n",
    "    Total de viaje: {sum(minutos)} minutes\n",
    "    Total combustible: {sum(deposito_combustible.values())}\n",
    "    \"\"\"\n",
    "\n",
    "print(informe_mision(\"Luna\", 10, 15, 51, principal=300000, externo=200000))\n",
    "\n",
    "\n",
    "def informe_mision(destino, *minutos, **deposito_combustible):\n",
    "    reporte_principal = f\"\"\"\n",
    "    Misión a {destino}\n",
    "    Total de viaje: {sum(minutos)} minutos\n",
    "    Total combustible: {sum(deposito_combustible.values())}\n",
    "    \"\"\"\n",
    "    for nombre_tanque, galones in deposito_combustible.items():\n",
    "        reporte_principal += f\"{nombre_tanque} tanque --> {galones} galones restantes\\n\"\n",
    "    return reporte_principal\n",
    "\n",
    "print(informe_mision(\"Luna\", 8, 11, 55, principal=300000, externo=200000))"
   ]
  }
 ],
 "metadata": {
  "interpreter": {
   "hash": "4377b27f8e4686739d02d62161872a63796ae6f0ed9f0699fce35597ef48d50c"
  },
  "kernelspec": {
   "display_name": "Python 3.10.2 64-bit",
   "language": "python",
   "name": "python3"
  },
  "language_info": {
   "codemirror_mode": {
    "name": "ipython",
    "version": 3
   },
   "file_extension": ".py",
   "mimetype": "text/x-python",
   "name": "python",
   "nbconvert_exporter": "python",
   "pygments_lexer": "ipython3",
   "version": "3.10.2"
  },
  "orig_nbformat": 4
 },
 "nbformat": 4,
 "nbformat_minor": 2
}
