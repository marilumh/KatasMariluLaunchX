{
 "cells": [
  {
   "cell_type": "code",
   "execution_count": 12,
   "metadata": {},
   "outputs": [
    {
     "name": "stdout",
     "output_type": "stream",
     "text": [
      "Son 7 planetas\n",
      "Plutón es el ultimo planeta\n"
     ]
    }
   ],
   "source": [
    "planetas = ['Mercurio', 'Venus', 'Tierra', 'Marte', 'Jupiter', 'Saturno', 'Neptuno']\n",
    "print('Son', len(planetas), 'planetas')\n",
    "\n",
    "planetas.append('Plutón')\n",
    "len(planetas)\n",
    "\n",
    "print(planetas[-1], 'es el ultimo planeta')\n"
   ]
  },
  {
   "cell_type": "code",
   "execution_count": 20,
   "metadata": {},
   "outputs": [
    {
     "name": "stdout",
     "output_type": "stream",
     "text": [
      "Aquí están los planetas más cerca queTierra\n",
      "['Mercurio', 'Venus']\n",
      "Aquí están los planetas más lejos queTierra\n",
      "['Marte', 'Jupiter', 'Saturno', 'Neptuno']\n"
     ]
    }
   ],
   "source": [
    "planetas = ['Mercurio', 'Venus', 'Tierra', 'Marte', 'Jupiter', 'Saturno', 'Neptuno']\n",
    "planeta = input('nombre del planeta, Comenzar con mayuscula')\n",
    "\n",
    "planeta_index = planetas.index(planeta)\n",
    "\n",
    "\n",
    "print('Aquí están los planetas más cerca que' + planeta)\n",
    "print(planetas[0:planeta_index])\n",
    "\n",
    "print('Aquí están los planetas más lejos que' + planeta)\n",
    "print(planetas[planeta_index + 1:])"
   ]
  }
 ],
 "metadata": {
  "interpreter": {
   "hash": "4377b27f8e4686739d02d62161872a63796ae6f0ed9f0699fce35597ef48d50c"
  },
  "kernelspec": {
   "display_name": "Python 3.10.2 64-bit",
   "language": "python",
   "name": "python3"
  },
  "language_info": {
   "codemirror_mode": {
    "name": "ipython",
    "version": 3
   },
   "file_extension": ".py",
   "mimetype": "text/x-python",
   "name": "python",
   "nbconvert_exporter": "python",
   "pygments_lexer": "ipython3",
   "version": "3.10.2"
  },
  "orig_nbformat": 4
 },
 "nbformat": 4,
 "nbformat_minor": 2
}
