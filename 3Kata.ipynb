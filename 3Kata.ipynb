{
 "cells": [
  {
   "cell_type": "code",
   "execution_count": 3,
   "metadata": {},
   "outputs": [
    {
     "name": "stdout",
     "output_type": "stream",
     "text": [
      "deben buscar un asteroide en el cielo.\n"
     ]
    }
   ],
   "source": [
    "v=49\n",
    "if(v>25):\n",
    "    print('¡Alerta! ¡Un asteroide se acerca a velozmente a la tierra!')\n",
    "else:\n",
    "    print(\"Excelente día\")\n"
   ]
  },
  {
   "cell_type": "code",
   "execution_count": 5,
   "metadata": {},
   "outputs": [
    {
     "name": "stdout",
     "output_type": "stream",
     "text": [
      "¡Hoy es un día excelente!\n"
     ]
    }
   ],
   "source": [
    "v=19\n",
    "if v>20:\n",
    "    print(\"¡Hay una luz mágica en el cielo!\")\n",
    "elif v==20:\n",
    "    print(\"¡Hay una luz mágica en el cielo!\")\n",
    "else:\n",
    "    print(\"¡Hoy es un día excelente!\")"
   ]
  },
  {
   "cell_type": "code",
   "execution_count": 4,
   "metadata": {},
   "outputs": [
    {
     "name": "stdout",
     "output_type": "stream",
     "text": [
      "¡Hay una luz mágica en el cielo!\n"
     ]
    }
   ],
   "source": [
    "v=25\n",
    "d=40\n",
    "if v>25 and d>25:\n",
    "    print(\"¡Un asteroide viene hacia la Tierra!\")\n",
    "elif v>=20:\n",
    "    print(\"¡Hay una luz mágica en el cielo!\")\n",
    "elif d<25:\n",
    "    print(\"Nada que ver aquí\")\n",
    "else:\n",
    "    print(\"¡Hoy es un día excelente!\")"
   ]
  }
 ],
 "metadata": {
  "interpreter": {
   "hash": "4377b27f8e4686739d02d62161872a63796ae6f0ed9f0699fce35597ef48d50c"
  },
  "kernelspec": {
   "display_name": "Python 3.10.2 64-bit",
   "language": "python",
   "name": "python3"
  },
  "language_info": {
   "codemirror_mode": {
    "name": "ipython",
    "version": 3
   },
   "file_extension": ".py",
   "mimetype": "text/x-python",
   "name": "python",
   "nbconvert_exporter": "python",
   "pygments_lexer": "ipython3",
   "version": "3.10.2"
  },
  "orig_nbformat": 4
 },
 "nbformat": 4,
 "nbformat_minor": 2
}
